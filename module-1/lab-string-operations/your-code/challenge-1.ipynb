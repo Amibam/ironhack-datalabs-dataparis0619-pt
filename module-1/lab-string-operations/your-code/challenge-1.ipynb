{
 "cells": [
  {
   "cell_type": "markdown",
   "metadata": {},
   "source": [
    "# String Operations Lab\n",
    "\n",
    "**Before your start:**\n",
    "\n",
    "- Read the README.md file\n",
    "- Comment as much as you can and use the resources in the README.md file\n",
    "- Happy learning!"
   ]
  },
  {
   "cell_type": "code",
   "execution_count": 42,
   "metadata": {},
   "outputs": [],
   "source": [
    "import re"
   ]
  },
  {
   "cell_type": "markdown",
   "metadata": {},
   "source": [
    "# Challenge 1 - Combining Strings\n",
    "\n",
    "Combining strings is an important skill to acquire. There are multiple ways of combining strings in Python, as well as combining strings with variables. We will explore this in the first challenge. In the cell below, combine the strings in the list and add spaces between the strings (do not add a space after the last string). Insert a period after the last string."
   ]
  },
  {
   "cell_type": "code",
   "execution_count": 14,
   "metadata": {},
   "outputs": [
    {
     "name": "stdout",
     "output_type": "stream",
     "text": [
      "Durante un tiempo no estuvo segura de si su marido era su marido.\n"
     ]
    }
   ],
   "source": [
    "str_list = ['Durante', 'un', 'tiempo', 'no', 'estuvo', 'segura', 'de', 'si', 'su', 'marido', 'era', 'su', 'marido']\n",
    "# 1. Your code here:\n",
    "#print ('Durante'+'un'+'tiempo'+ 'no'+'estuvo'+'segura'+'de'+'si'+'su'+'marido'+'era'+'su'+'marido')\n",
    "#print ('Durante','un','tiempo','no','estuvo','segura','de','si','su','marido','era','su','marido')\n",
    "\n",
    "print (\" \".join(str_list) + '.')\n"
   ]
  },
  {
   "cell_type": "markdown",
   "metadata": {},
   "source": [
    "In the cell below, use the list of strings to create a grocery list. Start the list with the string `Grocery list: ` and include a comma and a space between each item except for the last one. Include a period at the end. Only include foods in the list that start with the letter 'b' and ensure all foods are lower case."
   ]
  },
  {
   "cell_type": "code",
   "execution_count": 39,
   "metadata": {},
   "outputs": [
    {
     "name": "stdout",
     "output_type": "stream",
     "text": [
      "['Bananas', 'bread', 'Brownie Mix', 'broccoli']\n",
      "['bananas', 'bread', 'brownie mix', 'broccoli']\n",
      "Grocery list: bananas, bread, brownie mix, broccoli.\n"
     ]
    }
   ],
   "source": [
    "food_list = ['Bananas', 'Chocolate', 'bread', 'diapers', 'Ice Cream', 'Brownie Mix', 'broccoli']\n",
    "# 2. Your code here:\n",
    "\n",
    "#1. insert an element at the begining of the list (index 0)\n",
    "#Grocery = ['Grocery list:']\n",
    "#Grocery_list= Grocery.extend(food_list)\n",
    "#print (Grocey_list)\n",
    "\n",
    "#Grocery_listfood_list.append(Grocery list:)\n",
    "\n",
    "#2. include a comma between and a space between each element\n",
    "#print(re.split(', ', food_list))\n",
    "#', '.join(Grocery_list)\n",
    "#print(Grocery_list.split())\n",
    "\n",
    "#3. include a period at the end\n",
    "\n",
    "#4. only include elements that starts with b\n",
    "#print(re.findall('food_list.startswith [b]', text))\n",
    "#food_list_startb= [for i in Grocery_list if i startwith 'b' | i startwith 'B']\n",
    " #       print('food_list_startb')\n",
    "    \n",
    "#5. ensure all foods are lowercase\n",
    "#(re.findall('[a-z]', food_list_startb))\n",
    "\n",
    "\n",
    "#1. only include elements that starts with b\n",
    "#print(re.findall('food_list.startswith [b]', text))\n",
    "food_list_startb = [i for i in food_list if (i.startswith ('b') | i.startswith ('B'))]\n",
    "print(food_list_startb)\n",
    "    \n",
    "#2. ensure all foods are lowercase\n",
    "food_list_lower = [i.lower() for i in food_list_startb]\n",
    "print(food_list_lower)\n",
    "\n",
    "print ('Grocery list: ' + ', '.join(food_list_lower)+ '.')"
   ]
  },
  {
   "cell_type": "markdown",
   "metadata": {},
   "source": [
    "In the cell below, write a function that computes the area of a circle using its radius. Compute the area of the circle and insert the radius and the area between the two strings. Make sure to include spaces between the variable and the strings. \n",
    "\n",
    "Note: You can use the techniques we have learned so far or use f-strings. F-strings allow us to embed code inside strings. You can read more about f-strings [here](https://www.python.org/dev/peps/pep-0498/)."
   ]
  },
  {
   "cell_type": "code",
   "execution_count": null,
   "metadata": {},
   "outputs": [],
   "source": [
    "#3. Your code here: \n",
    "import math\n",
    "\n",
    "string1 = \"The area of the circle with radius:\"\n",
    "string2  = \"is:\"\n",
    "radius = 4.5\n",
    "\n",
    "def area(x, pi = math.pi):\n",
    "    # This function takes a radius and returns the area of a circle. We also pass a default value for pi.\n",
    "    # Input: Float (and default value for pi)\n",
    "    # Output: Float\n",
    "    \n",
    "    # Sample input: 5.0\n",
    "    # Sample Output: 78.53981633\n",
    "    \n",
    "    # Your code here:\n",
    "\n",
    "    \n",
    "# Your output string here:"
   ]
  },
  {
   "cell_type": "markdown",
   "metadata": {},
   "source": [
    "# Challenge 2 - Splitting Strings\n",
    "\n",
    "We have first looked at combining strings into one long string. There are times where we need to do the opposite and split the string into smaller components for further analysis. \n",
    "\n",
    "In the cell below, split the string into a list of strings using the space delimiter. Count the frequency of each word in the string in a dictionary. Strip the periods, line breaks and commas from the text. Make sure to remove empty strings from your dictionary."
   ]
  },
  {
   "cell_type": "code",
   "execution_count": 60,
   "metadata": {},
   "outputs": [
    {
     "name": "stdout",
     "output_type": "stream",
     "text": [
      "Some say the world will end in fire,\n",
      "Some say in ice\n",
      "From what I’ve tasted of desire\n",
      "I hold with those who favor fire\n",
      "But if it had to perish twice,\n",
      "I think I know enough of hate\n",
      "To say that for destruction ice\n",
      "Is also great\n",
      "And would suffice\n",
      "Some say the world will end in fire\n",
      "Some say in ice\n",
      "From what I’ve tasted of desire\n",
      "I hold with those who favor fire\n",
      "But if it had to perish twice\n",
      "I think I know enough of hate\n",
      "To say that for destruction ice\n",
      "Is also great\n",
      "And would suffice\n",
      "['Some', 'say', 'the', 'world', 'will', 'end', 'in', 'fire', 'Some', 'say', 'in', 'ice', 'From', 'what', 'I’ve', 'tasted', 'of', 'desire', 'I', 'hold', 'with', 'those', 'who', 'favor', 'fire', 'But', 'if', 'it', 'had', 'to', 'perish', 'twice', 'I', 'think', 'I', 'know', 'enough', 'of', 'hate', 'To', 'say', 'that', 'for', 'destruction', 'ice', 'Is', 'also', 'great', 'And', 'would', 'suffice']\n",
      "{'Some': 2, 'say': 3, 'the': 1, 'world': 1, 'will': 1, 'end': 1, 'in': 2, 'fire': 2, 'ice': 2, 'From': 1, 'what': 1, 'I’ve': 1, 'tasted': 1, 'of': 2, 'desire': 1, 'I': 3, 'hold': 1, 'with': 1, 'those': 1, 'who': 1, 'favor': 1, 'But': 1, 'if': 1, 'it': 1, 'had': 1, 'to': 1, 'perish': 1, 'twice': 1, 'think': 1, 'know': 1, 'enough': 1, 'hate': 1, 'To': 1, 'that': 1, 'for': 1, 'destruction': 1, 'Is': 1, 'also': 1, 'great': 1, 'And': 1, 'would': 1, 'suffice': 1}\n"
     ]
    }
   ],
   "source": [
    "#4. Your code here \n",
    "poem = \"\"\"Some say the world will end in fire,\n",
    "Some say in ice.\n",
    "From what I’ve tasted of desire\n",
    "I hold with those who favor fire.\n",
    "But if it had to perish twice,\n",
    "I think I know enough of hate\n",
    "To say that for destruction ice\n",
    "Is also great\n",
    "And would suffice.\"\"\"\n",
    "#Strip periods from the text\n",
    "poem_wordsonly= poem.replace('.', '')\n",
    "print(poem_wordsonly)\n",
    "\n",
    "#Strip commas from the text\n",
    "poem_wordsonly2= poem_wordsonly.replace(',', '')\n",
    "print(poem_wordsonly2)\n",
    "\n",
    "# Your code here:\n",
    "#splitting the string into list of strings separated by a space\n",
    "list_poem = poem_wordsonly2.split()\n",
    "print(list_poem)\n",
    "\n",
    "#Count of frequency of each word in a dictionary  TO FINISH\n",
    "import re\n",
    "dict_poem = {}\n",
    "for word in list_poem:\n",
    "    #dict['School'] = \"dps  \" \n",
    "    dict_poem[word] = list_poem.count(word)\n",
    "    #dict_poem = {'word' = count(word)}\n",
    "print (dict_poem)\n",
    "\n",
    "#OR Remove spaces https://www.journaldev.com/23674/python-remove-character-from-string\n",
    "#print(poem.replace(' ', ''))  \n",
    "#print(poem.translate({ord(i): None for i in ' '})) \n",
    "\n",
    "#Remove new lines\n",
    "#print(poem.replace('\\n', ''))\n",
    "#print(poem.translate({ord('\\n'): None}))"
   ]
  },
  {
   "cell_type": "markdown",
   "metadata": {},
   "source": [
    "In the cell below, find all the words that appear in the text and do not appear in the blacklist. You must parse the string but can choose any data structure you wish for the words that do not appear in the blacklist. Remove all non letter characters and convert all words to lower case."
   ]
  },
  {
   "cell_type": "code",
   "execution_count": 78,
   "metadata": {},
   "outputs": [
    {
     "name": "stdout",
     "output_type": "stream",
     "text": [
      "I was angry with my friend; \n",
      "I told my wrath, my wrath did end\n",
      "I was angry with my foe: \n",
      "I told it not, my wrath did grow \n",
      "\n",
      "And I waterd it in fears,\n",
      "Night & morning with my tears: \n",
      "And I sunned it with smiles,\n",
      "And with soft deceitful wiles \n",
      "\n",
      "And it grew both day and night \n",
      "Till it bore an apple bright \n",
      "And my foe beheld it shine,\n",
      "And he knew that it was mine \n",
      "\n",
      "And into my garden stole, \n",
      "When the night had veild the pole; \n",
      "In the morning glad I see; \n",
      "My foe outstretched beneath the tree\n",
      "I was angry with my friend; \n",
      "I told my wrath my wrath did end\n",
      "I was angry with my foe: \n",
      "I told it not my wrath did grow \n",
      "\n",
      "And I waterd it in fears\n",
      "Night & morning with my tears: \n",
      "And I sunned it with smiles\n",
      "And with soft deceitful wiles \n",
      "\n",
      "And it grew both day and night \n",
      "Till it bore an apple bright \n",
      "And my foe beheld it shine\n",
      "And he knew that it was mine \n",
      "\n",
      "And into my garden stole \n",
      "When the night had veild the pole; \n",
      "In the morning glad I see; \n",
      "My foe outstretched beneath the tree\n",
      "I was angry with my friend \n",
      "I told my wrath my wrath did end\n",
      "I was angry with my foe: \n",
      "I told it not my wrath did grow \n",
      "\n",
      "And I waterd it in fears\n",
      "Night & morning with my tears: \n",
      "And I sunned it with smiles\n",
      "And with soft deceitful wiles \n",
      "\n",
      "And it grew both day and night \n",
      "Till it bore an apple bright \n",
      "And my foe beheld it shine\n",
      "And he knew that it was mine \n",
      "\n",
      "And into my garden stole \n",
      "When the night had veild the pole \n",
      "In the morning glad I see \n",
      "My foe outstretched beneath the tree\n",
      "I was angry with my friend \n",
      "I told my wrath my wrath did end\n",
      "I was angry with my foe \n",
      "I told it not my wrath did grow \n",
      "\n",
      "And I waterd it in fears\n",
      "Night & morning with my tears \n",
      "And I sunned it with smiles\n",
      "And with soft deceitful wiles \n",
      "\n",
      "And it grew both day and night \n",
      "Till it bore an apple bright \n",
      "And my foe beheld it shine\n",
      "And he knew that it was mine \n",
      "\n",
      "And into my garden stole \n",
      "When the night had veild the pole \n",
      "In the morning glad I see \n",
      "My foe outstretched beneath the tree\n",
      "{'as', 'it', 'the', 'a', 'an', 'in', 'and'}\n",
      "['I', 'was', 'angry', 'with', 'my', 'friend', 'I', 'told', 'my', 'wrath', 'my', 'wrath', 'did', 'end', 'I', 'was', 'angry', 'with', 'my', 'foe', 'I', 'told', 'it', 'not', 'my', 'wrath', 'did', 'grow', 'And', 'I', 'waterd', 'it', 'in', 'fears', 'Night', '&', 'morning', 'with', 'my', 'tears', 'And', 'I', 'sunned', 'it', 'with', 'smiles', 'And', 'with', 'soft', 'deceitful', 'wiles', 'And', 'it', 'grew', 'both', 'day', 'and', 'night', 'Till', 'it', 'bore', 'an', 'apple', 'bright', 'And', 'my', 'foe', 'beheld', 'it', 'shine', 'And', 'he', 'knew', 'that', 'it', 'was', 'mine', 'And', 'into', 'my', 'garden', 'stole', 'When', 'the', 'night', 'had', 'veild', 'the', 'pole', 'In', 'the', 'morning', 'glad', 'I', 'see', 'My', 'foe', 'outstretched', 'beneath', 'the', 'tree']\n",
      "{'did', 'friend', 'had', 'veild', 'that', 'tears', 'knew', 'with', 'morning', 'shine', '&', 'grew', 'grow', 'see', 'In', 'My', 'night', 'into', 'bore', 'told', 'I', 'it', 'sunned', 'smiles', 'deceitful', 'garden', 'tree', 'outstretched', 'stole', 'foe', 'not', 'beheld', 'pole', 'my', 'bright', 'mine', 'the', 'an', 'glad', 'end', 'and', 'angry', 'day', 'wrath', 'fears', 'soft', 'was', 'both', 'apple', 'Till', 'in', 'he', 'When', 'beneath', 'And', 'Night', 'wiles', 'waterd'}\n",
      "{'did', 'friend', 'had', 'veild', 'that', 'tears', 'knew', 'with', 'morning', 'shine', '&', 'grew', 'grow', 'see', 'In', 'My', 'night', 'into', 'bore', 'told', 'I', 'sunned', 'smiles', 'deceitful', 'garden', 'tree', 'outstretched', 'stole', 'foe', 'not', 'beheld', 'pole', 'my', 'bright', 'mine', 'glad', 'end', 'angry', 'day', 'wrath', 'fears', 'soft', 'was', 'both', 'apple', 'Till', 'he', 'When', 'beneath', 'And', 'Night', 'wiles', 'waterd'}\n",
      "['did', 'friend', 'had', 'veild', 'that', 'tears', 'knew', 'with', 'morning', 'shine', '&', 'grew', 'grow', 'see', 'in', 'my', 'night', 'into', 'bore', 'told', 'i', 'sunned', 'smiles', 'deceitful', 'garden', 'tree', 'outstretched', 'stole', 'foe', 'not', 'beheld', 'pole', 'my', 'bright', 'mine', 'glad', 'end', 'angry', 'day', 'wrath', 'fears', 'soft', 'was', 'both', 'apple', 'till', 'he', 'when', 'beneath', 'and', 'night', 'wiles', 'waterd']\n"
     ]
    }
   ],
   "source": [
    "#5. Your code here :\n",
    "blacklist = ['and', 'as', 'an', 'a', 'the', 'in', 'it']\n",
    "\n",
    "poem = \"\"\"I was angry with my friend; \n",
    "I told my wrath, my wrath did end.\n",
    "I was angry with my foe: \n",
    "I told it not, my wrath did grow. \n",
    "\n",
    "And I waterd it in fears,\n",
    "Night & morning with my tears: \n",
    "And I sunned it with smiles,\n",
    "And with soft deceitful wiles. \n",
    "\n",
    "And it grew both day and night. \n",
    "Till it bore an apple bright. \n",
    "And my foe beheld it shine,\n",
    "And he knew that it was mine. \n",
    "\n",
    "And into my garden stole, \n",
    "When the night had veild the pole; \n",
    "In the morning glad I see; \n",
    "My foe outstretched beneath the tree.\"\"\"\n",
    "\n",
    "# Your code here:\n",
    "import re\n",
    "\n",
    "#Strip periods from the text\n",
    "poem_wordsonly= poem.replace('.', '')\n",
    "print(poem_wordsonly)\n",
    "\n",
    "#Strip commas from the text\n",
    "poem_wordsonly= poem_wordsonly.replace(',', '')\n",
    "print(poem_wordsonly)\n",
    "\n",
    "#Strip periods from the text\n",
    "poem_wordsonly= poem_wordsonly.replace(';', '')\n",
    "print(poem_wordsonly)\n",
    "\n",
    "#Strip periods from the text\n",
    "poem_wordsonly= poem_wordsonly.replace(':', '')\n",
    "print(poem_wordsonly)\n",
    "\n",
    "# Converting lists into sets\n",
    "blacklist_set = set(blacklist)\n",
    "print (blacklist_set)\n",
    "\n",
    "#splitting the string into list of strings separated by a space\n",
    "list_poem = poem_wordsonly.split()\n",
    "print(list_poem)\n",
    "poem_set = set(list_poem)\n",
    "print (poem_set)\n",
    "\n",
    "# Finding the elements that are only in poem but not in the backlist\n",
    "poem_set_only = poem_set - blacklist_set\n",
    "print(poem_set_only)\n",
    "\n",
    "#2. ensure all foods are lowercase\n",
    "poem_lower = [word.lower() for word in poem_set_only]\n",
    "print(poem_lower)\n",
    "\n",
    "# Remove all non letter characters\n",
    " #   print(re.findall('[\\W]', poem))\n",
    "    \n",
    "  #  for i in poem_set\n",
    "   # print(i.strip(\\W))\n",
    "    \n",
    "#removed = poem.replace(\"[\\W]\", \"\")\n",
    "\n",
    "#Convert all words to lower case\n",
    "#print(poem_set_only.lower())"
   ]
  },
  {
   "cell_type": "markdown",
   "metadata": {},
   "source": [
    "# Challenge 3 - Regular Expressions\n",
    "\n",
    "Sometimes, we would like to perform more complex manipulations of our string. This is where regular expressions come in handy. In the cell below, return all characters that are upper case from the string specified below."
   ]
  },
  {
   "cell_type": "code",
   "execution_count": 89,
   "metadata": {},
   "outputs": [
    {
     "name": "stdout",
     "output_type": "stream",
     "text": [
      "['T', 'P']\n"
     ]
    }
   ],
   "source": [
    "#6. Your code here :\n",
    "poem = \"\"\"The apparition of these faces in the crowd;\n",
    "Petals on a wet, black bough.\"\"\"\n",
    "\n",
    "# Your code here:\n",
    "import re\n",
    "print(re.findall('[A-Z]', poem))"
   ]
  },
  {
   "cell_type": "markdown",
   "metadata": {},
   "source": [
    "In the cell below, filter the list provided and return all elements of the list containing a number. To filter the list, use the `re.search` function. Check if the function does not return `None`. You can read more about the `re.search` function [here](https://docs.python.org/3/library/re.html)."
   ]
  },
  {
   "cell_type": "code",
   "execution_count": 85,
   "metadata": {},
   "outputs": [
    {
     "ename": "TypeError",
     "evalue": "expected string or bytes-like object",
     "output_type": "error",
     "traceback": [
      "\u001b[0;31m---------------------------------------------------------------------------\u001b[0m",
      "\u001b[0;31mTypeError\u001b[0m                                 Traceback (most recent call last)",
      "\u001b[0;32m<ipython-input-85-342e81dc8eb3>\u001b[0m in \u001b[0;36m<module>\u001b[0;34m\u001b[0m\n\u001b[1;32m      3\u001b[0m \u001b[0;31m# Your code here: https://docs.python.org/3/library/re.html\u001b[0m\u001b[0;34m\u001b[0m\u001b[0;34m\u001b[0m\u001b[0;34m\u001b[0m\u001b[0m\n\u001b[1;32m      4\u001b[0m \u001b[0;32mimport\u001b[0m \u001b[0mre\u001b[0m\u001b[0;34m\u001b[0m\u001b[0;34m\u001b[0m\u001b[0m\n\u001b[0;32m----> 5\u001b[0;31m \u001b[0mprint\u001b[0m\u001b[0;34m(\u001b[0m\u001b[0mre\u001b[0m\u001b[0;34m.\u001b[0m\u001b[0msearch\u001b[0m\u001b[0;34m(\u001b[0m\u001b[0;34m'\\w'\u001b[0m\u001b[0;34m,\u001b[0m \u001b[0mdata\u001b[0m\u001b[0;34m)\u001b[0m\u001b[0;34m)\u001b[0m\u001b[0;34m\u001b[0m\u001b[0;34m\u001b[0m\u001b[0m\n\u001b[0m",
      "\u001b[0;32m/Applications/anaconda3/lib/python3.7/re.py\u001b[0m in \u001b[0;36msearch\u001b[0;34m(pattern, string, flags)\u001b[0m\n\u001b[1;32m    181\u001b[0m     \"\"\"Scan through string looking for a match to the pattern, returning\n\u001b[1;32m    182\u001b[0m     a Match object, or None if no match was found.\"\"\"\n\u001b[0;32m--> 183\u001b[0;31m     \u001b[0;32mreturn\u001b[0m \u001b[0m_compile\u001b[0m\u001b[0;34m(\u001b[0m\u001b[0mpattern\u001b[0m\u001b[0;34m,\u001b[0m \u001b[0mflags\u001b[0m\u001b[0;34m)\u001b[0m\u001b[0;34m.\u001b[0m\u001b[0msearch\u001b[0m\u001b[0;34m(\u001b[0m\u001b[0mstring\u001b[0m\u001b[0;34m)\u001b[0m\u001b[0;34m\u001b[0m\u001b[0;34m\u001b[0m\u001b[0m\n\u001b[0m\u001b[1;32m    184\u001b[0m \u001b[0;34m\u001b[0m\u001b[0m\n\u001b[1;32m    185\u001b[0m \u001b[0;32mdef\u001b[0m \u001b[0msub\u001b[0m\u001b[0;34m(\u001b[0m\u001b[0mpattern\u001b[0m\u001b[0;34m,\u001b[0m \u001b[0mrepl\u001b[0m\u001b[0;34m,\u001b[0m \u001b[0mstring\u001b[0m\u001b[0;34m,\u001b[0m \u001b[0mcount\u001b[0m\u001b[0;34m=\u001b[0m\u001b[0;36m0\u001b[0m\u001b[0;34m,\u001b[0m \u001b[0mflags\u001b[0m\u001b[0;34m=\u001b[0m\u001b[0;36m0\u001b[0m\u001b[0;34m)\u001b[0m\u001b[0;34m:\u001b[0m\u001b[0;34m\u001b[0m\u001b[0;34m\u001b[0m\u001b[0m\n",
      "\u001b[0;31mTypeError\u001b[0m: expected string or bytes-like object"
     ]
    }
   ],
   "source": [
    "#7. Your code here :\n",
    "\n",
    "data = ['123abc', 'abc123', 'JohnSmith1', 'ABBY4', 'JANE']\n",
    "\n",
    "# Your code here: https://docs.python.org/3/library/re.html\n",
    "import re\n",
    "print(re.search('\\w', data))"
   ]
  },
  {
   "cell_type": "markdown",
   "metadata": {},
   "source": [
    "# Bonus Challenge - Regular Expressions II\n",
    "\n",
    "In the cell below, filter the list provided to keep only strings containing at least one digit and at least one lower case letter. As in the previous question, use the `re.search` function and check that the result is not `None`.\n",
    "\n",
    "To read more about regular expressions, check out [this link](https://developers.google.com/edu/python/regular-expressions)."
   ]
  },
  {
   "cell_type": "code",
   "execution_count": 87,
   "metadata": {},
   "outputs": [],
   "source": [
    "data = ['123abc', 'abc123', 'JohnSmith1', 'ABBY4', 'JANE']\n",
    "# Your code here:\n",
    "print(re.search('\\d:', '[a-z]:' , data))"
   ]
  }
 ],
 "metadata": {
  "kernelspec": {
   "display_name": "Python 3",
   "language": "python",
   "name": "python3"
  },
  "language_info": {
   "codemirror_mode": {
    "name": "ipython",
    "version": 3
   },
   "file_extension": ".py",
   "mimetype": "text/x-python",
   "name": "python",
   "nbconvert_exporter": "python",
   "pygments_lexer": "ipython3",
   "version": "3.7.3"
  }
 },
 "nbformat": 4,
 "nbformat_minor": 2
}
